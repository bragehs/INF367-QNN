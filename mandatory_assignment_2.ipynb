{
 "cells": [
  {
   "cell_type": "markdown",
   "metadata": {},
   "source": [
    "### MANDATORY ASSIGNMENT 2"
   ]
  },
  {
   "cell_type": "code",
   "execution_count": 1,
   "metadata": {},
   "outputs": [],
   "source": [
    "from sklearn import datasets"
   ]
  },
  {
   "cell_type": "code",
   "execution_count": 2,
   "metadata": {},
   "outputs": [],
   "source": [
    "import numpy as np"
   ]
  },
  {
   "cell_type": "code",
   "execution_count": 3,
   "metadata": {},
   "outputs": [],
   "source": [
    "iris = datasets.load_iris()"
   ]
  },
  {
   "cell_type": "code",
   "execution_count": 4,
   "metadata": {},
   "outputs": [],
   "source": [
    "X = iris.data\n",
    "Y = iris.target"
   ]
  },
  {
   "cell_type": "markdown",
   "metadata": {},
   "source": [
    "#### Task 1) data exploration"
   ]
  },
  {
   "cell_type": "code",
   "execution_count": 5,
   "metadata": {},
   "outputs": [
    {
     "data": {
      "text/plain": [
       "150"
      ]
     },
     "execution_count": 5,
     "metadata": {},
     "output_type": "execute_result"
    }
   ],
   "source": [
    "len(X)"
   ]
  },
  {
   "cell_type": "code",
   "execution_count": 6,
   "metadata": {},
   "outputs": [
    {
     "name": "stdout",
     "output_type": "stream",
     "text": [
      "(150, 4) (150,)\n"
     ]
    }
   ],
   "source": [
    "print(X.shape, Y.shape)"
   ]
  },
  {
   "cell_type": "code",
   "execution_count": 7,
   "metadata": {},
   "outputs": [
    {
     "name": "stdout",
     "output_type": "stream",
     "text": [
      "0.1 7.9\n",
      "0 2\n"
     ]
    }
   ],
   "source": [
    "print(np.min(X), np.max(X))\n",
    "print(np.min(Y), np.max(Y))"
   ]
  },
  {
   "cell_type": "code",
   "execution_count": 8,
   "metadata": {},
   "outputs": [],
   "source": [
    "from sklearn.preprocessing import MinMaxScaler\n",
    "from qiskit import QuantumCircuit, transpile, assemble\n",
    "from qiskit_aer import Aer, AerSimulator\n",
    "from qiskit.visualization import plot_histogram\n",
    "from qiskit.circuit import Parameter\n",
    "from qiskit_algorithms.optimizers import SPSA\n",
    "\n",
    "from sklearn.metrics import log_loss # loss function\n",
    "from sklearn.metrics import accuracy_score # accuracy\n",
    "import time\n",
    "import pickle"
   ]
  },
  {
   "cell_type": "code",
   "execution_count": 9,
   "metadata": {},
   "outputs": [],
   "source": [
    "scaler = MinMaxScaler(feature_range=(0, np.pi)) # since we are using angle encoding, we need to scale from 0 to pi\n",
    "X = scaler.fit_transform(X)"
   ]
  },
  {
   "cell_type": "code",
   "execution_count": null,
   "metadata": {},
   "outputs": [],
   "source": [
    "from sklearn.metrics import ConfusionMatrixDisplay, confusion_matrix\n",
    "import matplotlib.pyplot as plt\n",
    "\n",
    "class QuantumMachineLearning:\n",
    "    def __init__(self, X_train, y_train, X_val, y_val, num_qubits = 4, num_layers = 3):\n",
    "        self.X_train = X_train\n",
    "        self.y_train = y_train\n",
    "        self.X_val = X_val\n",
    "        self.y_val = y_val\n",
    "        self.num_qubits = num_qubits\n",
    "        self.num_layers = num_layers\n",
    "        self.num_classes = len(set(y_train))\n",
    "        self.rng = np.random.default_rng(42)\n",
    "        self.initial_parameters = self.rng.uniform(0, np.pi, self.num_qubits * self.num_layers)\n",
    "\n",
    "        self.base_circuit = self._create_base_circuit()\n",
    "        self.backend = AerSimulator(method = 'statevector')\n",
    "    \n",
    "    def angle_encoding(self, qc, data_point):\n",
    "        [qc.rx(data_point[qubit], qubit) for qubit in range(self.num_qubits)]\n",
    "        return qc\n",
    "\n",
    "    def real_amplitudes(self, qc, parameters):\n",
    "        param_indices = np.arange(len(parameters)).reshape(self.num_layers, self.num_qubits)\n",
    "        \n",
    "        for layer in range(self.num_layers):\n",
    "            [qc.ry(parameters[param_indices[layer, qubit]], qubit) \n",
    "             for qubit in range(self.num_qubits)]\n",
    "            qc.barrier()\n",
    "            \n",
    "            [qc.cx(qubit, qubit+1) for qubit in range(self.num_qubits-1)]\n",
    "            qc.barrier()\n",
    "\n",
    "        return qc\n",
    "    \n",
    "    def august_qnn(self, qc, parameters):\n",
    "        param_indices = np.arange(len(parameters)).reshape(self.num_layers, self.num_qubits)\n",
    "\n",
    "        \n",
    "        return qc\n",
    "\n",
    "    def _create_base_circuit(self, encoding = 'angle', circuit = 'real_amplitudes'):\n",
    "        qc = QuantumCircuit(self.num_qubits)\n",
    "        if encoding == 'angle':\n",
    "            qc = self.angle_encoding(qc, np.array([Parameter(f\"theta_{i}\") for i in range(self.num_qubits)]))\n",
    "        \n",
    "        if circuit == 'real_amplitudes':\n",
    "            qc = self.real_amplitudes(qc ,np.array([Parameter(f\"theta_{i}{j}\")\n",
    "                                                     for i in range(self.num_qubits)\n",
    "                                                     for j in range(self.num_layers)]))\n",
    "        elif circuit == 'august_qnn':\n",
    "            qc = self.august_qnn(qc, np.array([Parameter(f\"theta_{i}{j}\")\n",
    "                                                     for i in range(self.num_qubits)\n",
    "                                                     for j in range(self.num_layers)]))\n",
    "\n",
    "        return qc\n",
    "\n",
    "\n",
    "    def prepare_circuit(self, data_point, params):\n",
    "        qc = self.base_circuit.copy()\n",
    "        qc.assign_parameters(np.concatenate([data_point, params]), inplace = True)\n",
    "        \n",
    "        return qc\n",
    "   \n",
    "    def run_circuit(self, data_point, params, shots = 100):\n",
    "        qc = self.prepare_circuit(data_point, params)     \n",
    "        \n",
    "        qc.measure_all()\n",
    "\n",
    "        tqc = transpile(qc, self.backend)\n",
    "\n",
    "        job = self.backend.run(tqc, shots=shots)\n",
    "        result = job.result()\n",
    "        counts = result.get_counts(qc)\n",
    "\n",
    "        return counts\n",
    "\n",
    "    \n",
    "    def data_decoding(self, output):\n",
    "        return int(output, 2) % self.num_classes\n",
    "    \n",
    "    def loss_function(self, updated_params, val = False, shots = 100):\n",
    "        X = self.X_train if not val else self.X_val\n",
    "        y = self.y_train if not val else self.y_val\n",
    "\n",
    "        def process_counts(x):\n",
    "            counts = self.run_circuit(x, updated_params, shots = shots)\n",
    "\n",
    "            count_classes = {x : 0 for x in range(self.num_classes)}\n",
    "            [count_classes.update({self.data_decoding(output): \n",
    "                                 count_classes.get(self.data_decoding(output), 0) + count/shots}) \n",
    "             for output, count in counts.items()]\n",
    "        \n",
    "            return [count_classes[x] for x in range(self.num_classes)]        \n",
    "            \n",
    "        predicted_probabilites = np.array([process_counts(x) for x in X])\n",
    "        logloss = log_loss(y, predicted_probabilites)\n",
    "\n",
    "        #print(f\"Parameters: {updated_params} loss: {logloss}\")\n",
    "        return logloss\n",
    "\n",
    "    def SPSA_optimize(self, maxiter = 50):\n",
    "        optimizer = SPSA(maxiter=maxiter)\n",
    "        # Optimize the parameters\n",
    "        optimized = optimizer.minimize(fun=self.loss_function, x0=self.initial_parameters)\n",
    "\n",
    "        print(\"Optimized Parameters:\", optimized.x)\n",
    "        print(\"Minimum Loss:\", optimized.fun)\n",
    "        self.optimized_params = optimized.x\n",
    "        self.min_loss = optimized.fun\n",
    "    \n",
    "\n",
    "    def gradient(self, params, epsilon = 0.2):\n",
    "        size = len(params)\n",
    "        plus = np.broadcast_to(params, (size, size)) + np.eye(size) * epsilon\n",
    "        minus = np.broadcast_to(params, (size, size)) - np.eye(size) * epsilon\n",
    "        L_plus = np.array([self.loss_function(p) for p in plus])\n",
    "        L_minus = np.array([self.loss_function(p) for p in minus])\n",
    "\n",
    "        return (L_plus - L_minus) / (2 * epsilon)\n",
    "    \n",
    "    \n",
    "    def run_gradient_descent(self, learning_rate = 0.1, maxiter = 50, shots = 100):\n",
    "        self.all_epochs = np.empty((0, 3))\n",
    "        current_point = self.initial_parameters\n",
    "        parameter_storage = np.empty((0, len(current_point)))\n",
    "        early_stopping = False\n",
    "        for epoch in range(maxiter):\n",
    "            start = time.time()\n",
    "\n",
    "            gradients = self.gradient(current_point)\n",
    "            current_point = [current_point[j] - learning_rate * gradients[j] for j in range(len(gradients))]\n",
    "\n",
    "            training_loss  = self.loss_function(current_point, shots= shots)\n",
    "            validation_loss = self.loss_function(current_point, val = True, shots= shots)\n",
    "            parameter_storage = np.vstack([parameter_storage, current_point])\n",
    "\n",
    "            end = time.time()\n",
    "            elapsed_time = end - start\n",
    "            self.all_epochs = np.vstack([self.all_epochs, [training_loss, validation_loss, elapsed_time]])\n",
    "\n",
    "            if epoch >= 10:\n",
    "                val_losses = self.all_epochs[:,1]\n",
    "                if np.mean(val_losses[-5:]) > np.mean(val_losses[-10:]): # if last 5 validation losses are greater than last 10, break\n",
    "                    best_index = np.argmin(val_losses)\n",
    "                    current_point = parameter_storage[best_index]\n",
    "                    print(f\"\"\"Early Stopping at epoch {epoch}, \n",
    "                        Training Loss: {self.all_epochs[:,0][best_index]}, \n",
    "                        Validation Loss: {val_losses[best_index]},\"\"\")\n",
    "                    early_stopping = True\n",
    "                    break\n",
    "\n",
    "            print(f\"Epoch {epoch} Training Loss: {training_loss}, Validation Loss: {validation_loss}, Time: {elapsed_time}\")\n",
    "       \n",
    "        current_point = [float(p) for p in current_point]\n",
    "        loss = training_loss if not early_stopping else self.all_epochs[:,0][best_index]\n",
    "        print(\"Optimized Parameters:\", current_point, \"Loss:\", loss)\n",
    "        self.optimized_params = current_point  \n",
    "        self.min_loss = loss\n",
    "    \n",
    "    def predict(self, data_point): #paramteres must be optimized before prediction\n",
    "        prediction_shots = 100000 # more shots as the circuit is only run once\n",
    "        counts = self.run_circuit(data_point, self.optimized_params, shots = prediction_shots)\n",
    "\n",
    "        predicted_probabilites = {x : 0 for x in range(self.num_classes)}\n",
    "            \n",
    "        # Decode each measurement outcome and aggregate probabilites for each class\n",
    "        for output, count in counts.items():\n",
    "            class_num = self.data_decoding(output)\n",
    "            predicted_probabilites[class_num] += count / prediction_shots\n",
    "        \n",
    "        \n",
    "        # Determine the predicted class by choosing the class with the highest probability\n",
    "        predicted_class = max(predicted_probabilites, key=predicted_probabilites.get)\n",
    "        \n",
    "        return predicted_class\n",
    "\n",
    "    def predict_dataset(self, X):\n",
    "        return [self.predict(data_point) for data_point in X]\n",
    "    \n",
    "    def performance(self, y_test, X_test):\n",
    "        #compute accuracy\n",
    "        predictions = self.predict_dataset(X_test)\n",
    "        self.accuracy = accuracy_score(y_test, predictions)\n",
    "        \n",
    "        #print accuracy\n",
    "        print(f\"Test Accuracy: {self.accuracy}\")\n",
    "        \n",
    "        #generate and display the confusion matrix\n",
    "        cm = confusion_matrix(y_test, predictions)\n",
    "        disp = ConfusionMatrixDisplay(confusion_matrix=cm)\n",
    "        disp.plot(cmap=\"Blues\")\n",
    "        plt.show()\n",
    "        \n",
    "        return self.accuracy\n",
    "\n",
    "    def save(self):\n",
    "        with open('model_data.pkl', 'wb') as f:\n",
    "            pickle.dump({\n",
    "                'optimized_params': self.optimized_params,\n",
    "                'min_loss': self.min_loss,\n",
    "                'accuracy': self.accuracy,\n",
    "                'all_epochs': self.all_epochs\n",
    "            }, f)\n",
    "\n",
    "    \n",
    "    \n",
    "    "
   ]
  },
  {
   "cell_type": "code",
   "execution_count": 11,
   "metadata": {},
   "outputs": [],
   "source": [
    "from sklearn.model_selection import train_test_split"
   ]
  },
  {
   "cell_type": "code",
   "execution_count": 12,
   "metadata": {},
   "outputs": [],
   "source": [
    "X_train, X_temp, y_train, y_temp = train_test_split(X, Y, test_size=0.3, random_state=42) # 70% training \n",
    "X_val, X_test, y_val, y_test = train_test_split(X_temp, y_temp, test_size=0.5, random_state=42) # 15% validation, 15% testing"
   ]
  },
  {
   "cell_type": "code",
   "execution_count": 13,
   "metadata": {},
   "outputs": [
    {
     "name": "stdout",
     "output_type": "stream",
     "text": [
      "Epoch 0 Training Loss: 1.1612282526749336, Validation Loss: 0.8481540196430271, Time: 24.104753971099854\n",
      "Epoch 1 Training Loss: 1.091118959318031, Validation Loss: 0.8410216541911418, Time: 23.439465284347534\n",
      "Epoch 2 Training Loss: 1.1107509551993888, Validation Loss: 0.8829111605562733, Time: 24.485280990600586\n",
      "Epoch 3 Training Loss: 1.0833045868380102, Validation Loss: 0.8853497952829362, Time: 23.580366134643555\n",
      "Epoch 4 Training Loss: 1.0820571418702354, Validation Loss: 0.8335338789250026, Time: 23.288192987442017\n",
      "Epoch 5 Training Loss: 1.0539842850789944, Validation Loss: 0.8569969811772328, Time: 24.199334859848022\n",
      "Epoch 6 Training Loss: 1.0640568347300732, Validation Loss: 0.9420763474397241, Time: 23.736526012420654\n",
      "Epoch 7 Training Loss: 1.0087472247714078, Validation Loss: 0.927966635216275, Time: 23.797276258468628\n",
      "Epoch 8 Training Loss: 1.0274344345467055, Validation Loss: 0.9366721275783341, Time: 23.70554518699646\n",
      "Epoch 9 Training Loss: 1.0326423424275568, Validation Loss: 0.8976011940533802, Time: 23.32570791244507\n",
      "Early Stopping at epoch 10, \n",
      "                        Training Loss: 1.0820571418702354, \n",
      "                        Validation Loss: 0.8335338789250026,\n",
      "Optimized Parameters: [2.41178259200243, 1.0251952065251733, 2.463858827537705, 1.7793292395490798] Loss: 1.0820571418702354\n"
     ]
    }
   ],
   "source": [
    "object1 = QuantumMachineLearning(X_train, y_train, X_val, y_val, num_layers=1)\n",
    "\n",
    "object1.run_gradient_descent(maxiter = 100, learning_rate=0.7)"
   ]
  },
  {
   "cell_type": "code",
   "execution_count": 14,
   "metadata": {},
   "outputs": [
    {
     "name": "stdout",
     "output_type": "stream",
     "text": [
      "Test Accuracy: 0.2608695652173913\n"
     ]
    },
    {
     "data": {
      "image/png": "[encoded data removed]",
      "text/plain": [
       "<Figure size 640x480 with 2 Axes>"
      ]
     },
     "metadata": {},
     "output_type": "display_data"
    },
    {
     "data": {
      "text/plain": [
       "0.2608695652173913"
      ]
     },
     "execution_count": 14,
     "metadata": {},
     "output_type": "execute_result"
    }
   ],
   "source": [
    "object1.performance(y_test, X_test)"
   ]
  },
  {
   "cell_type": "code",
   "execution_count": 15,
   "metadata": {},
   "outputs": [],
   "source": [
    "object1.save()"
   ]
  },
  {
   "cell_type": "code",
   "execution_count": 18,
   "metadata": {},
   "outputs": [
    {
     "name": "stdout",
     "output_type": "stream",
     "text": [
      "{'optimized_params': [2.41178259200243, 1.0251952065251733, 2.463858827537705, 1.7793292395490798], 'min_loss': np.float64(1.0820571418702354), 'accuracy': 0.2608695652173913, 'all_epochs': array([[ 1.16122825,  0.84815402, 24.10475397],\n",
      "       [ 1.09111896,  0.84102165, 23.43946528],\n",
      "       [ 1.11075096,  0.88291116, 24.48528099],\n",
      "       [ 1.08330459,  0.8853498 , 23.58036613],\n",
      "       [ 1.08205714,  0.83353388, 23.28819299],\n",
      "       [ 1.05398429,  0.85699698, 24.19933486],\n",
      "       [ 1.06405683,  0.94207635, 23.73652601],\n",
      "       [ 1.00874722,  0.92796664, 23.79727626],\n",
      "       [ 1.02743443,  0.93667213, 23.70554519],\n",
      "       [ 1.03264234,  0.89760119, 23.32570791],\n",
      "       [ 1.01833464,  0.92247607, 24.52000499]])}\n"
     ]
    },
    {
     "data": {
      "image/png": "[encoded data removed]",
      "text/plain": [
       "<Figure size 1000x600 with 1 Axes>"
      ]
     },
     "metadata": {},
     "output_type": "display_data"
    }
   ],
   "source": [
    "with open ('model_data.pkl', 'rb') as f:\n",
    "    data = pickle.load(f)\n",
    "\n",
    "print(data)\n",
    "\n",
    "import matplotlib.pyplot as plt\n",
    "\n",
    "\n",
    "def plot_learning_curves(training_loss, validation_loss):\n",
    "    epochs = range(1, len(training_loss) + 1)\n",
    "    \n",
    "    plt.figure(figsize=(10, 6))\n",
    "    \n",
    "    #plot training and validation loss over epochs\n",
    "    plt.plot(epochs, training_loss, label=\"Training Loss\", color=\"blue\", marker='o')\n",
    "    plt.plot(epochs, validation_loss, label=\"Validation Loss\", color=\"orange\", marker='o')\n",
    "    \n",
    "    plt.title(\"Learning Curves\")\n",
    "    plt.xlabel(\"Epochs\")\n",
    "    plt.ylabel(\"Loss\")\n",
    "    plt.legend()\n",
    "    plt.grid()\n",
    "    plt.show()\n",
    "\n",
    "training_loss = object1.all_epochs[:, 0]  # Extract training loss from all_epochs\n",
    "validation_loss = object1.all_epochs[:, 1]  # Extract validation loss from all_epochs\n",
    "\n",
    "plot_learning_curves(training_loss, validation_loss)\n"
   ]
  },
  {
   "cell_type": "code",
   "execution_count": null,
   "metadata": {},
   "outputs": [],
   "source": [
    "\n"
   ]
  }
 ],
 "metadata": {
  "kernelspec": {
   "display_name": "cwq",
   "language": "python",
   "name": "python3"
  },
  "language_info": {
   "codemirror_mode": {
    "name": "ipython",
    "version": 3
   },
   "file_extension": ".py",
   "mimetype": "text/x-python",
   "name": "python",
   "nbconvert_exporter": "python",
   "pygments_lexer": "ipython3",
   "version": "3.12.4"
  }
 },
 "nbformat": 4,
 "nbformat_minor": 2
}
