{
 "cells": [
  {
   "cell_type": "markdown",
   "metadata": {},
   "source": [
    "### MANDATORY ASSIGNMENT 2"
   ]
  },
  {
   "cell_type": "code",
   "execution_count": 1,
   "metadata": {},
   "outputs": [],
   "source": [
    "from sklearn import datasets"
   ]
  },
  {
   "cell_type": "code",
   "execution_count": 2,
   "metadata": {},
   "outputs": [],
   "source": [
    "import numpy as np"
   ]
  },
  {
   "cell_type": "code",
   "execution_count": 3,
   "metadata": {},
   "outputs": [],
   "source": [
    "iris = datasets.load_iris()"
   ]
  },
  {
   "cell_type": "code",
   "execution_count": 4,
   "metadata": {},
   "outputs": [],
   "source": [
    "X = iris.data\n",
    "Y = iris.target"
   ]
  },
  {
   "cell_type": "markdown",
   "metadata": {},
   "source": [
    "#### Task 1) data exploration"
   ]
  },
  {
   "cell_type": "code",
   "execution_count": 5,
   "metadata": {},
   "outputs": [
    {
     "data": {
      "text/plain": [
       "150"
      ]
     },
     "execution_count": 5,
     "metadata": {},
     "output_type": "execute_result"
    }
   ],
   "source": [
    "len(X)"
   ]
  },
  {
   "cell_type": "code",
   "execution_count": 6,
   "metadata": {},
   "outputs": [
    {
     "name": "stdout",
     "output_type": "stream",
     "text": [
      "(150, 4) (150,)\n"
     ]
    }
   ],
   "source": [
    "print(X.shape, Y.shape)"
   ]
  },
  {
   "cell_type": "code",
   "execution_count": 7,
   "metadata": {},
   "outputs": [
    {
     "name": "stdout",
     "output_type": "stream",
     "text": [
      "0.1 7.9\n",
      "0 2\n"
     ]
    }
   ],
   "source": [
    "print(np.min(X), np.max(X))\n",
    "print(np.min(Y), np.max(Y))"
   ]
  },
  {
   "cell_type": "code",
   "execution_count": 8,
   "metadata": {},
   "outputs": [],
   "source": [
    "from sklearn.preprocessing import MinMaxScaler\n",
    "from qiskit import QuantumCircuit, transpile, assemble\n",
    "from qiskit_aer import Aer, AerSimulator\n",
    "from qiskit.visualization import plot_histogram\n",
    "from qiskit.circuit import Parameter\n",
    "from qiskit_algorithms.optimizers import SPSA\n",
    "import matplotlib.pyplot as plt\n",
    "from sklearn.metrics import log_loss # loss function\n",
    "from sklearn.metrics import accuracy_score # accuracy\n",
    "import time\n",
    "import pickle\n",
    "from sklearn.metrics import ConfusionMatrixDisplay, confusion_matrix\n",
    "import concurrent.futures"
   ]
  },
  {
   "cell_type": "code",
   "execution_count": 9,
   "metadata": {},
   "outputs": [],
   "source": [
    "scaler = MinMaxScaler(feature_range=(0, np.pi)) # since we are using angle encoding, we need to scale from 0 to pi\n",
    "X = scaler.fit_transform(X)"
   ]
  },
  {
   "cell_type": "code",
   "execution_count": null,
   "metadata": {},
   "outputs": [],
   "source": [
    "class QuantumMachineLearning:\n",
    "    def __init__(self, X_train, y_train, X_val, y_val, num_qubits = 4, num_layers = 3):\n",
    "        self.X_train = X_train\n",
    "        self.y_train = y_train\n",
    "        self.X_val = X_val\n",
    "        self.y_val = y_val\n",
    "        self.num_qubits = num_qubits\n",
    "        self.num_layers = num_layers\n",
    "        self.num_classes = len(set(y_train))\n",
    "        self.rng = np.random.default_rng(42)\n",
    "        self.initial_parameters = self.rng.uniform(0, np.pi, self.num_qubits * self.num_layers)\n",
    "\n",
    "        self.base_circuit = self._create_base_circuit()\n",
    "        self.backend = AerSimulator(method = 'statevector')\n",
    "        self.transpiled_circuits = {}   \n",
    "    \n",
    "    def angle_encoding(self, qc, data_point):\n",
    "        [qc.rx(data_point[qubit], qubit) for qubit in range(self.num_qubits)]\n",
    "        return qc\n",
    "\n",
    "    def real_amplitudes(self, qc, parameters):\n",
    "        param_indices = np.arange(len(parameters)).reshape(self.num_layers, self.num_qubits)\n",
    "        \n",
    "        for layer in range(self.num_layers):\n",
    "            [qc.ry(parameters[param_indices[layer, qubit]], qubit) \n",
    "             for qubit in range(self.num_qubits)]\n",
    "            qc.barrier()\n",
    "            \n",
    "            [qc.cx(qubit, qubit+1) for qubit in range(self.num_qubits-1)]\n",
    "            qc.barrier()\n",
    "\n",
    "        return qc\n",
    "    \n",
    "    \n",
    "    def QCNN(self, qc, parameters):\n",
    "        pass\n",
    "\n",
    "    def _create_base_circuit(self, encoding = 'angle', circuit = 'real_amplitudes'):\n",
    "        qc = QuantumCircuit(self.num_qubits)\n",
    "        if encoding == 'angle':\n",
    "            qc = self.angle_encoding(qc, np.array([Parameter(f\"theta_{i}\") for i in range(self.num_qubits)]))\n",
    "        \n",
    "        if circuit == 'real_amplitudes':\n",
    "            filename = 'real_amplitudes_circuit.png'\n",
    "            qc = self.real_amplitudes(qc ,np.array([Parameter(f\"theta_{i}{j}\")\n",
    "                                                     for i in range(self.num_qubits)\n",
    "                                                     for j in range(self.num_layers)]))\n",
    "        \n",
    "        circuit_drawing = qc.draw(output='mpl', style={'backgroundcolor': '#FFFFFF'})\n",
    "        circuit_drawing.savefig(filename, dpi=300, bbox_inches='tight')\n",
    "        plt.close()  # Close the figure to free memory\n",
    "        return qc\n",
    "\n",
    "\n",
    "    def prepare_circuit(self, data_point, params):\n",
    "        qc = self.base_circuit.copy()\n",
    "        qc.assign_parameters(np.concatenate([data_point, params]), inplace = True)\n",
    "        \n",
    "        return qc\n",
    "   \n",
    "    def run_circuit(self, data_point, params, shots = 100):\n",
    "        qc = self.prepare_circuit(data_point, params)     \n",
    "        \n",
    "        qc.measure_all()\n",
    "\n",
    "        tqc = transpile(qc, self.backend)\n",
    "\n",
    "        job = self.backend.run(tqc, shots=shots)\n",
    "        result = job.result()\n",
    "        counts = result.get_counts(qc)\n",
    "\n",
    "        return counts\n",
    "\n",
    "    \n",
    "    def data_decoding(self, output):\n",
    "        return int(output, 2) % self.num_classes\n",
    "    \n",
    "    def loss_function(self, updated_params, val = False, shots = 100):\n",
    "        X = self.X_train if not val else self.X_val\n",
    "        y = self.y_train if not val else self.y_val\n",
    "\n",
    "        def process_counts(x):\n",
    "            counts = self.run_circuit(x, updated_params, shots = shots)\n",
    "\n",
    "            count_classes = {x : 0 for x in range(self.num_classes)}\n",
    "            [count_classes.update({self.data_decoding(output): \n",
    "                                 count_classes.get(self.data_decoding(output), 0) + count/shots}) \n",
    "             for output, count in counts.items()]\n",
    "        \n",
    "            return [count_classes[x] for x in range(self.num_classes)]        \n",
    "         \n",
    "\n",
    "        predicted_probabilities = np.array([process_counts(x) for x in X])\n",
    "\n",
    "        logloss = log_loss(y, predicted_probabilities)\n",
    "\n",
    "        #print(f\"Parameters: {updated_params} loss: {logloss}\")\n",
    "        return logloss\n",
    "\n",
    "    def SPSA_optimize(self, maxiter = 50):\n",
    "        optimizer = SPSA(maxiter=maxiter)\n",
    "        # Optimize the parameters\n",
    "        optimized = optimizer.minimize(fun=self.loss_function, x0=self.initial_parameters)\n",
    "\n",
    "        print(\"Optimized Parameters:\", optimized.x)\n",
    "        print(\"Minimum Loss:\", optimized.fun)\n",
    "        self.optimized_params = optimized.x\n",
    "        self.min_loss = optimized.fun\n",
    "    \n",
    "\n",
    "    def gradient(self, params, epsilon = 0.2):\n",
    "        size = len(params)\n",
    "        plus = np.broadcast_to(params, (size, size)) + np.eye(size) * epsilon\n",
    "        minus = np.broadcast_to(params, (size, size)) - np.eye(size) * epsilon\n",
    "        L_plus = np.array([self.loss_function(p) for p in plus])\n",
    "        L_minus = np.array([self.loss_function(p) for p in minus])\n",
    "\n",
    "        return (L_plus - L_minus) / (2 * epsilon)\n",
    "    \n",
    "    \n",
    "    def run_gradient_descent(self, learning_rate = 0.1, maxiter = 50, shots = 100):\n",
    "        self.all_epochs = np.empty((0, 3))\n",
    "        current_point = self.initial_parameters\n",
    "        parameter_storage = np.empty((0, len(current_point)))\n",
    "        early_stopping = False\n",
    "        for epoch in range(maxiter):\n",
    "            start = time.time()\n",
    "\n",
    "            gradients = self.gradient(current_point)\n",
    "            current_point = [current_point[j] - learning_rate * gradients[j] for j in range(len(gradients))]\n",
    "\n",
    "            training_loss  = self.loss_function(current_point, shots= shots)\n",
    "            validation_loss = self.loss_function(current_point, val = True, shots= shots)\n",
    "            parameter_storage = np.vstack([parameter_storage, current_point])\n",
    "\n",
    "            end = time.time()\n",
    "            elapsed_time = end - start\n",
    "            self.all_epochs = np.vstack([self.all_epochs, [training_loss, validation_loss, elapsed_time]])\n",
    "\n",
    "            if epoch >= 10:\n",
    "                val_losses = self.all_epochs[:,1]\n",
    "                if np.mean(val_losses[-5:]) > np.mean(val_losses[-10:]): # if last 5 validation losses are greater than last 10, break\n",
    "                    best_index = np.argmin(val_losses)\n",
    "                    current_point = parameter_storage[best_index]\n",
    "                    print(f\"\"\"Early Stopping at epoch {epoch}, \n",
    "                        Training Loss: {self.all_epochs[:,0][best_index]}, \n",
    "                        Validation Loss: {val_losses[best_index]},\"\"\")\n",
    "                    early_stopping = True\n",
    "                    break\n",
    "\n",
    "            print(f\"Epoch {epoch} Training Loss: {training_loss}, Validation Loss: {validation_loss}, Time: {elapsed_time}\")\n",
    "       \n",
    "        current_point = [float(p) for p in current_point]\n",
    "        loss = training_loss if not early_stopping else self.all_epochs[:,0][best_index]\n",
    "        print(\"Optimized Parameters:\", current_point, \"Loss:\", loss)\n",
    "        self.optimized_params = current_point  \n",
    "        self.min_loss = loss\n",
    "    \n",
    "    def predict(self, data_point): #paramteres must be optimized before prediction\n",
    "        prediction_shots = 100000 # more shots as the circuit is only run once\n",
    "        counts = self.run_circuit(data_point, self.optimized_params, shots = prediction_shots)\n",
    "\n",
    "        predicted_probabilites = {x : 0 for x in range(self.num_classes)}\n",
    "            \n",
    "        # Decode each measurement outcome and aggregate probabilites for each class\n",
    "        for output, count in counts.items():\n",
    "            class_num = self.data_decoding(output)\n",
    "            predicted_probabilites[class_num] += count / prediction_shots\n",
    "        \n",
    "        \n",
    "        # Determine the predicted class by choosing the class with the highest probability\n",
    "        predicted_class = max(predicted_probabilites, key=predicted_probabilites.get)\n",
    "        \n",
    "        return predicted_class\n",
    "\n",
    "    def predict_dataset(self, X):\n",
    "        return [self.predict(data_point) for data_point in X]\n",
    "    \n",
    "    def performance(self, y_test, X_test):\n",
    "        predictions = self.predict_dataset(X_test)\n",
    "        self.accuracy = accuracy_score(y_test, predictions)\n",
    "        print('Accuracy score:', self.accuracy)\n",
    "\n",
    "        #generate and display the confusion matrix\n",
    "        cm = confusion_matrix(y_test, predictions)\n",
    "        disp = ConfusionMatrixDisplay(confusion_matrix=cm)\n",
    "        disp.plot(cmap=\"Blues\")\n",
    "        plt.show()\n",
    "        \n",
    "        return self.accuracy\n",
    "\n",
    "    def save(self):\n",
    "        with open('model_data.pkl', 'wb') as f:\n",
    "            pickle.dump({\n",
    "                'optimized_params': self.optimized_params,\n",
    "                'min_loss': self.min_loss,\n",
    "                'accuracy': self.accuracy,\n",
    "                'all_epochs': self.all_epochs\n",
    "            }, f)\n",
    "\n",
    "    def plot_training_validation_loss(self, train_loss, val_loss, steps=None):\n",
    "        if steps is None:\n",
    "            steps = range(len(train_loss))\n",
    "        \n",
    "        plt.figure(figsize=(10, 6))\n",
    "        #\n",
    "        plt.plot(steps, train_loss, label='Training loss', color='#1f77b4')  # Blue line\n",
    "        plt.plot(steps, val_loss, label='Validation loss', color='#ff7f0e')  # Orange line\n",
    "        \n",
    "        plt.xlabel('Epoch')\n",
    "        plt.ylabel('Loss')\n",
    "        plt.title('Training Loss vs Validation Loss')\n",
    "        plt.legend()\n",
    "        plt.grid(False)\n",
    "\n",
    "        plt.tight_layout()\n",
    "        \n",
    "        plt.show()\n",
    "    \n",
    "    \n",
    "    "
   ]
  },
  {
   "cell_type": "code",
   "execution_count": 48,
   "metadata": {},
   "outputs": [],
   "source": [
    "from sklearn.model_selection import train_test_split"
   ]
  },
  {
   "cell_type": "code",
   "execution_count": 49,
   "metadata": {},
   "outputs": [],
   "source": [
    "X_train, X_temp, y_train, y_temp = train_test_split(X, Y, test_size=0.3, random_state=42) # 70% training \n",
    "X_val, X_test, y_val, y_test = train_test_split(X_temp, y_temp, test_size=0.5, random_state=42) # 15% validation, 15% testing"
   ]
  },
  {
   "cell_type": "code",
   "execution_count": 50,
   "metadata": {},
   "outputs": [
    {
     "name": "stdout",
     "output_type": "stream",
     "text": [
      "Epoch 0 Training Loss: 0.8816817041531836, Validation Loss: 0.6703546578219163, Time: 108.62157106399536\n",
      "Epoch 1 Training Loss: 0.77316713890314, Validation Loss: 0.550652834535867, Time: 106.0335259437561\n",
      "Epoch 2 Training Loss: 0.6921172849698196, Validation Loss: 0.5028654890346336, Time: 110.18781280517578\n",
      "Epoch 3 Training Loss: 0.6439198747502181, Validation Loss: 0.5084298743040189, Time: 111.53066802024841\n",
      "Epoch 4 Training Loss: 0.6231374747658506, Validation Loss: 0.48882777932851573, Time: 111.68593406677246\n",
      "Epoch 5 Training Loss: 0.5759589052063179, Validation Loss: 0.43149075980751667, Time: 113.54727792739868\n",
      "Epoch 6 Training Loss: 0.5738280226448382, Validation Loss: 0.3977414461300788, Time: 113.21630120277405\n",
      "Epoch 7 Training Loss: 0.5619397018592606, Validation Loss: 0.4034446271107115, Time: 352.74625515937805\n",
      "Epoch 8 Training Loss: 0.5453089820426874, Validation Loss: 0.4077543225446941, Time: 1388.4040577411652\n",
      "Epoch 9 Training Loss: 0.5459708308110666, Validation Loss: 0.4185729286178718, Time: 108.26834011077881\n",
      "Epoch 10 Training Loss: 0.5470123640852754, Validation Loss: 0.39322969612715525, Time: 110.9909520149231\n",
      "Epoch 11 Training Loss: 0.5205228942581948, Validation Loss: 0.3923992604533225, Time: 116.05230689048767\n",
      "Epoch 12 Training Loss: 0.5234870220428797, Validation Loss: 0.3636744763870437, Time: 116.06858086585999\n",
      "Epoch 13 Training Loss: 0.5169112524083995, Validation Loss: 0.38403988899752056, Time: 120.24926090240479\n",
      "Epoch 14 Training Loss: 0.5159014211802184, Validation Loss: 0.36107511089792843, Time: 132.15498518943787\n",
      "Epoch 15 Training Loss: 0.5323388492018261, Validation Loss: 0.33465161010562544, Time: 133.61565589904785\n",
      "Epoch 16 Training Loss: 0.49606957597405354, Validation Loss: 0.3535075191133367, Time: 1118.3648581504822\n",
      "Epoch 17 Training Loss: 0.5045008222205525, Validation Loss: 0.3437763753726947, Time: 102.3007447719574\n",
      "Epoch 18 Training Loss: 0.494261470085057, Validation Loss: 0.3519164247639898, Time: 110.55134725570679\n",
      "Epoch 19 Training Loss: 0.5038135146886668, Validation Loss: 0.3184441342505925, Time: 109.41981506347656\n",
      "Epoch 20 Training Loss: 0.4851810942674422, Validation Loss: 0.3738866969990019, Time: 111.45207810401917\n",
      "Epoch 21 Training Loss: 0.483375940725982, Validation Loss: 0.33981556413620395, Time: 115.85495519638062\n",
      "Epoch 22 Training Loss: 0.494923981645362, Validation Loss: 0.361156951510279, Time: 119.95095610618591\n",
      "Epoch 23 Training Loss: 0.48051023591524805, Validation Loss: 0.32861412613258756, Time: 203.6907708644867\n",
      "Early Stopping at epoch 24, \n",
      "                        Training Loss: 0.5038135146886668, \n",
      "                        Validation Loss: 0.3184441342505925,\n",
      "Optimized Parameters: [2.4799044826253347, 0.537955175666021, 3.1706998139128615, 1.6816626768232303, -0.0730768863962229, 3.4824260045147812, 2.289287199492115, 2.5374778164400387, 0.14777579860739337, 1.3838560537152667, 1.8436046188943127, 3.5729145727180134, 2.0853507798991995, 2.689092063484478, 1.469454203628881, 1.4184659201401844, 1.3500202455510613, 0.4438724144750752, 2.868434950525745, 2.0580015685974855] Loss: 0.5038135146886668\n"
     ]
    }
   ],
   "source": [
    "object1 = QuantumMachineLearning(X_train, y_train, X_val, y_val, num_layers=5)\n",
    "\n",
    "object1.run_gradient_descent(maxiter = 100, learning_rate=0.7)"
   ]
  },
  {
   "cell_type": "code",
   "execution_count": 55,
   "metadata": {},
   "outputs": [
    {
     "name": "stdout",
     "output_type": "stream",
     "text": [
      "Accuracy score: 1.0\n"
     ]
    },
    {
     "data": {
      "image/png": "[encoded data removed]",
      "text/plain": [
       "<Figure size 640x480 with 2 Axes>"
      ]
     },
     "metadata": {},
     "output_type": "display_data"
    },
    {
     "data": {
      "text/plain": [
       "1.0"
      ]
     },
     "execution_count": 55,
     "metadata": {},
     "output_type": "execute_result"
    }
   ],
   "source": [
    "object1.performance(y_test, X_test)"
   ]
  },
  {
   "cell_type": "code",
   "execution_count": 52,
   "metadata": {},
   "outputs": [],
   "source": [
    "object1.save()"
   ]
  },
  {
   "cell_type": "code",
   "execution_count": 53,
   "metadata": {},
   "outputs": [
    {
     "data": {
      "image/png": "[encoded data removed]",
      "text/plain": [
       "<Figure size 1000x600 with 1 Axes>"
      ]
     },
     "metadata": {},
     "output_type": "display_data"
    }
   ],
   "source": [
    "object1.plot_training_validation_loss(object1.all_epochs[:,0], object1.all_epochs[:,1])"
   ]
  },
  {
   "cell_type": "code",
   "execution_count": null,
   "metadata": {},
   "outputs": [],
   "source": []
  }
 ],
 "metadata": {
  "kernelspec": {
   "display_name": "myenv",
   "language": "python",
   "name": "python3"
  },
  "language_info": {
   "codemirror_mode": {
    "name": "ipython",
    "version": 3
   },
   "file_extension": ".py",
   "mimetype": "text/x-python",
   "name": "python",
   "nbconvert_exporter": "python",
   "pygments_lexer": "ipython3",
   "version": "3.13.0"
  }
 },
 "nbformat": 4,
 "nbformat_minor": 2
}
